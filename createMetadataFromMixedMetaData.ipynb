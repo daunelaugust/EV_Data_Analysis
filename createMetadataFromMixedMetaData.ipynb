{
 "cells": [
  {
   "cell_type": "code",
   "execution_count": null,
   "metadata": {},
   "outputs": [],
   "source": [
    "import pandas as pd\n",
    "\n",
    "# Specify the Excel file path\n",
    "file_path = 'New_Sample_Metadata.xlsx'\n",
    "\n",
    "# Read all four sheets into a dictionary of DataFrames\n",
    "sheets = pd.read_excel(file_path, sheet_name=[\"Metadata\", \"Run1\", \"Run2\", \"Run3\"])\n",
    "\n",
    "# Access each sheet by its name\n",
    "metadata_df = sheets[\"Metadata\"]\n",
    "run1_df = sheets[\"Run1\"]\n",
    "run2_df = sheets[\"Run2\"]\n",
    "run3_df = sheets[\"Run3\"]\n",
    "\n",
    "# Display or process each DataFrame as needed\n",
    "print(\"Metadata Sheet:\")\n",
    "print(metadata_df.head())\n",
    "\n",
    "print(\"\\nRun1 Sheet:\")\n",
    "print(run1_df.head())\n",
    "\n",
    "print(\"\\nRun2 Sheet:\")\n",
    "print(run2_df.head())\n",
    "\n",
    "print(\"\\nRun3 Sheet\n"
   ]
  }
 ],
 "metadata": {
  "language_info": {
   "name": "python"
  }
 },
 "nbformat": 4,
 "nbformat_minor": 2
}
